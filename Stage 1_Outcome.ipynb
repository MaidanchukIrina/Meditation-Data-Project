{
 "cells": [
  {
   "cell_type": "markdown",
   "id": "4975df84",
   "metadata": {},
   "source": [
    "# Project: Analysis__ of Meditation's Impact on Stress Reduction\n",
    "\n",
    "In this project, we explore the impact of meditation practices on reducing stress levels using real scientific data from an open-source resource. The main stages of work include:\n",
    "\n",
    "1. **Data Preparation** – cleaning, quality assessment, and merging of data files.\n",
    "2. **Analysis and Visualization** – examining relationships between meditation practices and stress indicators.\n",
    "3. **Insights** – evaluating the effectiveness of meditation and creating recommendations.\n",
    "\n",
    "We'll start by working with each file individually to assess data quality and clean the content as needed. This project demonstrates data processing skills from initial cleaning in Python and SQL to final visualization in Tableau.\n",
    "\n"
   ]
  },
  {
   "cell_type": "markdown",
   "id": "ca665a01",
   "metadata": {},
   "source": [
    "## Data Files Overview\n",
    "\n",
    "1. **Code_Book.csv** – Provides detailed descriptions for each data field, including data types and format examples.\n",
    "\n",
    "2. **Study_Groups_Category.csv** – Describes participant groups, covering demographic information, initial diagnoses, and settings of each study.\n",
    "\n",
    "3. **Intervention.csv** – Includes details on meditation interventions, such as type, program name, goals, practice format, duration, and medical needs.\n",
    "\n",
    "4. **Outcomes.csv** – Lists outcomes related to stress and other psychological indicators, including outcome categories, subcategories, and associated thresholds for interpreting scores.\n",
    "\n",
    "5. **Effect_Size_Data.csv** – Contains data on the effectiveness of various interventions, with metrics on effect size, treatment and control means, standard deviations, and confidence intervals.\n",
    "\n",
    "Each file will be individually assessed and cleaned before merging to ensure data quality for the analysis."
   ]
  },
  {
   "cell_type": "markdown",
   "id": "d26f1af9",
   "metadata": {},
   "source": [
    "### 1. Code_Book.csv\n",
    "\n",
    "The `Code_Book.csv` file serves as a reference guide, providing detailed information about each field across the datasets. It is metadata and it includes the following columns:\n",
    "\n",
    "- **Field Name** – The name of each data field, allowing easy identification of variables across files.\n",
    "- **Description** – A detailed description of each field, explaining its purpose and the type of information it represents.\n",
    "- **Type** – Specifies the data type (e.g., numeric, string), which is essential for ensuring proper handling during data processing.\n",
    "- **Format** – Indicates the expected format or structure of the data (e.g., number format, date format), helping to validate data entries.\n",
    "- **Example** – Provides an example of each field’s typical data, giving a clearer understanding of expected values.\n",
    "\n",
    "This code book is essential for understanding the data structure and for consistent data handling during cleaning and analysis."
   ]
  },
  {
   "cell_type": "markdown",
   "id": "cd62cc33",
   "metadata": {},
   "source": [
    "### 2. Study_Groups_Category.csv\n",
    "\n",
    "The `Study_Groups_Category.csv` file provides demographic and contextual information about each study group involved in the research. Key columns include:\n",
    "- **report_id** – Unique identifier for each report, allowing for data linkage across files.\n",
    "- **study_id** – Unique identifier for each study within the reports.\n",
    "- **s_country** – Country where the study was conducted, helping to assess the geographical scope of the data.\n",
    "- **s_setting** – Describes the study setting (e.g., clinical, community), providing context on the environment where data was collected.\n",
    "- **s_start** – Start date of the study, indicating when data collection began.\n",
    "- **s_end** – End date of the study, showing the study’s overall duration.\n",
    "- **s_duration** – Numeric duration of the study, giving a quick understanding of the study period.\n",
    "- **s_n** – Number of participants in each group, essential for understanding the scale of each study.\n",
    "- **s_diag** – General code for participants' diagnoses, which classifies medical conditions.\n",
    "- **s_diag_spec** – Detailed description of diagnoses, offering a more precise medical context for the group.\n",
    "- **diag_category** – Diagnosis category, providing an additional generalized classification, useful for analyzing large groups.\n",
    "- **s_female** – Percentage of females in the group, supporting demographic analysis by gender.\n",
    "- **s_age_mt** – Mean age of the treatment group, useful for assessing age distribution within this category.\n",
    "- **s_age_mc** – Mean age of the control group, allowing for comparison of age characteristics.\n",
    "\n",
    "These columns offer comprehensive information for analyzing study group characteristics, demographics, and diagnoses, providing deeper insight into the context of the data collected.\n",
    "\n",
    "This file is crucial for assessing the diversity and characteristics of the study groups, enabling a deeper analysis of outcomes based on participant backgrounds."
   ]
  },
  {
   "cell_type": "markdown",
   "id": "2cc43199",
   "metadata": {},
   "source": [
    "### Exploring the Study Groups\n",
    "\n",
    "Now, let’s get to know our study groups a bit better! We’ll start by downloading `Study_Groups_Category.csv`, which will give us insights into who participated in each study – their demographics, health conditions, and more. This information will help us understand the context and diversity of the participants involved."
   ]
  },
  {
   "cell_type": "code",
   "execution_count": 14,
   "id": "710f8541",
   "metadata": {},
   "outputs": [],
   "source": [
    "import pandas as pd\n",
    "import numpy as np\n",
    "import matplotlib.pyplot as plt\n",
    "import matplotlib.dates as mdates\n",
    "import seaborn as sns\n",
    "import os"
   ]
  },
  {
   "cell_type": "code",
   "execution_count": 15,
   "id": "eada948b",
   "metadata": {},
   "outputs": [],
   "source": [
    "study_df=pd.read_csv(r'C:\\Users\\User\\OneDrive\\Documents\\NEW_JOB\\Pet Projects\\Meditation_Stress_Project\\Cleaned data\\Study_Groups_Category.csv', encoding='utf-8-sig', delimiter=',', on_bad_lines='skip')"
   ]
  },
  {
   "cell_type": "code",
   "execution_count": 16,
   "id": "c8320a96",
   "metadata": {},
   "outputs": [
    {
     "name": "stdout",
     "output_type": "stream",
     "text": [
      "   report_id  study_id      s_country  s_setting     s_start       s_end  \\\n",
      "0          1         1           Iran        1.0         NaN         NaN   \n",
      "1          2         2            USA        3.0  09/08/2024  13/08/2024   \n",
      "2          5         4            USA        1.0         NaN         NaN   \n",
      "3          6         5  Great Britain        NaN         NaN         NaN   \n",
      "4          7         6          China        1.0  05/01/2016  01.03.2017   \n",
      "5          8         7  Great Britain        1.0  01.10.2008  31.12.2011   \n",
      "6          9         8            USA        2.0  15.10.2015  30.06.2019   \n",
      "7         10         9            USA        3.0  01.02.2012  31.12.2012   \n",
      "8         11        10            USA        NaN         NaN         NaN   \n",
      "9         12        11        Germany        NaN  07/01/2014  31.03.2019   \n",
      "\n",
      "   s_duration    s_n  s_diag  \\\n",
      "0         NaN   30.0     2.0   \n",
      "1         4.0  194.0     1.0   \n",
      "2         NaN  124.0     2.0   \n",
      "3         NaN   86.0     1.0   \n",
      "4         1.0  234.0     1.0   \n",
      "5         3.0  194.0     2.0   \n",
      "6         4.0  225.0     2.0   \n",
      "7         1.0   49.0     2.0   \n",
      "8         NaN    NaN     NaN   \n",
      "9         5.0   80.0     2.0   \n",
      "\n",
      "                                         s_diag_spec  \\\n",
      "0                                depressive disorder   \n",
      "1  Obesity: BMI > 30-45, waist circumference > 10...   \n",
      "2  and have a principal (or dual) DSM-IV diagnosi...   \n",
      "3  Adults with persistent tinnitus for many years...   \n",
      "4             women undergoing infertility treatment   \n",
      "5  a history of at least three previous episodes ...   \n",
      "6  The participants were adult women with a clini...   \n",
      "7  and active sleep disturbance, older than 55 years   \n",
      "8                                                NaN   \n",
      "9                            (b) history of relapses   \n",
      "\n",
      "                                diag_category  s_female  s_age_mt  s_age_mc  \n",
      "0                         Depressive disorder      60.0     29.40     28.60  \n",
      "1                                   Adiposity      80.0     47.00     47.00  \n",
      "2                                 PTSD/stress       NaN       NaN       NaN  \n",
      "3                          Intrusive tinnitus       NaN       NaN       NaN  \n",
      "4                                 Infertility     100.0     30.23     30.27  \n",
      "5  Depressive disorder with suicidal thoughts      75.0     44.50     43.10  \n",
      "6                      Substance use disorder     100.0       NaN       NaN  \n",
      "7                           Sleep disturbance       NaN     55.00     55.00  \n",
      "8                                       Other       NaN       NaN       NaN  \n",
      "9                                       other       NaN       NaN       NaN  \n"
     ]
    }
   ],
   "source": [
    "print(study_df.head(10))"
   ]
  },
  {
   "cell_type": "code",
   "execution_count": 20,
   "id": "15797889",
   "metadata": {},
   "outputs": [
    {
     "name": "stdout",
     "output_type": "stream",
     "text": [
      "<class 'pandas.core.frame.DataFrame'>\n",
      "RangeIndex: 76 entries, 0 to 75\n",
      "Data columns (total 14 columns):\n",
      " #   Column         Non-Null Count  Dtype  \n",
      "---  ------         --------------  -----  \n",
      " 0   report_id      76 non-null     int64  \n",
      " 1   study_id       76 non-null     int64  \n",
      " 2   s_country      76 non-null     object \n",
      " 3   s_setting      73 non-null     float64\n",
      " 4   s_start        59 non-null     object \n",
      " 5   s_end          49 non-null     object \n",
      " 6   s_duration     49 non-null     float64\n",
      " 7   s_n            75 non-null     float64\n",
      " 8   s_diag         75 non-null     float64\n",
      " 9   s_diag_spec    75 non-null     object \n",
      " 10  diag_category  76 non-null     object \n",
      " 11  s_female       37 non-null     float64\n",
      " 12  s_age_mt       21 non-null     float64\n",
      " 13  s_age_mc       21 non-null     float64\n",
      "dtypes: float64(7), int64(2), object(5)\n",
      "memory usage: 8.4+ KB\n",
      "None\n"
     ]
    }
   ],
   "source": [
    "print(study_df.info())"
   ]
  },
  {
   "cell_type": "code",
   "execution_count": 23,
   "id": "63dd20ba",
   "metadata": {},
   "outputs": [
    {
     "name": "stdout",
     "output_type": "stream",
     "text": [
      "        report_id   study_id s_country  s_setting     s_start       s_end  \\\n",
      "count   76.000000  76.000000        76  73.000000          59          49   \n",
      "unique        NaN        NaN        14        NaN          52          44   \n",
      "top           NaN        NaN       USA        NaN  01.10.2008  31.06.2014   \n",
      "freq          NaN        NaN        39        NaN           2           3   \n",
      "mean    45.000000  40.131579       NaN   1.369863         NaN         NaN   \n",
      "std     24.511766  22.522488       NaN   0.935516         NaN         NaN   \n",
      "min      1.000000   1.000000       NaN   1.000000         NaN         NaN   \n",
      "25%     23.750000  20.750000       NaN   1.000000         NaN         NaN   \n",
      "50%     46.500000  40.500000       NaN   1.000000         NaN         NaN   \n",
      "75%     65.250000  59.250000       NaN   1.000000         NaN         NaN   \n",
      "max     85.000000  78.000000       NaN   4.000000         NaN         NaN   \n",
      "\n",
      "        s_duration         s_n     s_diag          s_diag_spec  \\\n",
      "count    49.000000   75.000000  75.000000                   75   \n",
      "unique         NaN         NaN        NaN                   75   \n",
      "top            NaN         NaN        NaN  depressive disorder   \n",
      "freq           NaN         NaN        NaN                    1   \n",
      "mean      2.653061  113.200000   1.520000                  NaN   \n",
      "std       1.407584   77.727521   0.502964                  NaN   \n",
      "min       1.000000   22.000000   1.000000                  NaN   \n",
      "25%       1.000000   64.500000   1.000000                  NaN   \n",
      "50%       3.000000   88.000000   2.000000                  NaN   \n",
      "75%       3.000000  149.000000   2.000000                  NaN   \n",
      "max       6.000000  485.000000   2.000000                  NaN   \n",
      "\n",
      "              diag_category    s_female   s_age_mt   s_age_mc  \n",
      "count                    76   37.000000  21.000000  21.000000  \n",
      "unique                   28         NaN        NaN        NaN  \n",
      "top     Depressive disorder         NaN        NaN        NaN  \n",
      "freq                     10         NaN        NaN        NaN  \n",
      "mean                    NaN   61.297297  43.080476  42.681905  \n",
      "std                     NaN   25.959225  13.125372  13.198706  \n",
      "min                     NaN    0.000000  19.300000  19.300000  \n",
      "25%                     NaN   47.000000  32.270000  33.000000  \n",
      "50%                     NaN   64.000000  42.300000  40.700000  \n",
      "75%                     NaN   75.000000  50.800000  51.600000  \n",
      "max                     NaN  100.000000  72.700000  70.700000  \n"
     ]
    }
   ],
   "source": [
    "print(study_df.describe(include='all'))"
   ]
  },
  {
   "cell_type": "markdown",
   "id": "e56c361d",
   "metadata": {},
   "source": [
    "## Initial Data Exploration Summary\n",
    "\n",
    "To get a sense of the data, we used three functions:\n",
    "\n",
    "1. **Head**: Displayed the first few rows of the dataset to check the overall structure and data format.\n",
    "2. **Describe**: Provided summary statistics, including mean, min, max, and counts, to understand numerical and categorical distributions.\n",
    "3. **Info**: Displayed information about data types, non-null counts, and memory usage, helping us assess the quality and completeness of the data.\n",
    "\n",
    "- **First Peek**: The file gives us a snapshot of the study groups with fields like `report_id`, `study_id`, `s_country`, `s_diag`, and demographics such as `s_female` and age information.\n",
    "- **Descriptive Stats**:\n",
    "  - **Country**: Studies span 14 countries, with the U.S. as the most frequent location.\n",
    "  - **Sample Sizes** (`s_n`): Ranges significantly from 22 to 485 participants per group.\n",
    "  - **Age and Gender**: Not all age or gender data is complete, but the mean age for available records centers around 43 years and 62% of female.\n",
    "  - **Duration**: From several weeks to 6 years\n",
    "  - **Most popular diagnosis**: Depressive disorder\n",
    "- **Data Structure**:\n",
    "  - The dataset has 76 entries across 14 columns.\n",
    "  - Certain columns, like `s_start`, `s_end`, `s_duration`, and `s_female`, contain missing values that may require cleaning.\n",
    "\n",
    "### Next Steps:\n",
    "1. **Address Missing Data**: We’ll handle missing values in `s_female`, `s_age_mt`, `s_age_mc`, and date fields.\n",
    "2. **Standardize Date Fields**: Convert `s_start` and `s_end` to a consistent date format.\n",
    "3. **Prepare for Analysis**: Ensure categorical columns, such as `s_country` and `diag_category`, are standardized for easier analysis."
   ]
  },
  {
   "cell_type": "markdown",
   "id": "a39bbc26",
   "metadata": {},
   "source": [
    "## Observing Missing Data\n",
    "\n",
    "Let’s take a closer look at the gaps in our data. The heatmap reveals:\n",
    "\n",
    "- **Concentrated Gaps**: Key columns like `s_female`, `s_age_mt`, and `s_age_mc` show noticeable missing values, suggesting demographic data may need filling.\n",
    "- **Date Gaps**: Some studies lack start (`s_start`) and end (`s_end`) dates, indicating potential gaps in timeline data.\n",
    "\n",
    "This snapshot gives us direction on where to focus next to keep our analysis accurate and comprehensive."
   ]
  },
  {
   "cell_type": "code",
   "execution_count": 25,
   "id": "ccb4dc34",
   "metadata": {},
   "outputs": [
    {
     "data": {
      "image/png": "[encoded data removed]",
      "text/plain": [
       "<Figure size 1000x600 with 1 Axes>"
      ]
     },
     "metadata": {},
     "output_type": "display_data"
    }
   ],
   "source": [
    "plt.figure(figsize=(10, 6))\n",
    "sns.heatmap(study_df.isnull(), cbar=False, cmap=\"viridis\")\n",
    "plt.title(\"Heatmap of Missing Data in Study_Groups_Category.csv\")\n",
    "plt.xlabel(\"Columns\")\n",
    "plt.ylabel(\"Rows\")\n",
    "plt.show()"
   ]
  },
  {
   "cell_type": "code",
   "execution_count": null,
   "id": "a67bbd90",
   "metadata": {},
   "outputs": [],
   "source": []
  }
 ],
 "metadata": {
  "kernelspec": {
   "display_name": "base",
   "language": "python",
   "name": "python3"
  },
  "language_info": {
   "codemirror_mode": {
    "name": "ipython",
    "version": 3
   },
   "file_extension": ".py",
   "mimetype": "text/x-python",
   "name": "python",
   "nbconvert_exporter": "python",
   "pygments_lexer": "ipython3",
   "version": "3.11.5"
  }
 },
 "nbformat": 4,
 "nbformat_minor": 5
}
