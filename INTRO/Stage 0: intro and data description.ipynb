{
 "cells": [
  {
   "cell_type": "markdown",
   "id": "4975df84",
   "metadata": {},
   "source": [
    "# Project: Analysis__ of Meditation's Impact on Stress Reduction\n",
    "\n",
    "In this project, we explore the impact of meditation practices on reducing stress levels using real scientific data from an open-source resource. The main stages of work include:\n",
    "\n",
    "1. **Data Preparation** – cleaning, quality assessment, and merging of data files.\n",
    "2. **Analysis and Visualization** – examining relationships between meditation practices and stress indicators.\n",
    "3. **Insights** – evaluating the effectiveness of meditation and creating recommendations.\n",
    "\n",
    "We'll start by working with each file individually to assess data quality and clean the content as needed. This project demonstrates data processing skills from initial cleaning in Python and SQL to final visualization in Tableau.\n",
    "\n"
   ]
  },
  {
   "cell_type": "markdown",
   "id": "ca665a01",
   "metadata": {},
   "source": [
    "## Data Files Overview\n",
    "\n",
    "1. **Code_Book.csv** – Provides detailed descriptions for each data field, including data types and format examples.\n",
    "\n",
    "2. **Study_Groups_Category.csv** – Describes participant groups, covering demographic information, initial diagnoses, and settings of each study.\n",
    "\n",
    "3. **Intervention.csv** – Includes details on meditation interventions, such as type, program name, goals, practice format, duration, and medical needs.\n",
    "\n",
    "4. **Outcomes.csv** – Lists outcomes related to stress and other psychological indicators, including outcome categories, subcategories, and associated thresholds for interpreting scores.\n",
    "\n",
    "5. **Effect_Size_Data.csv** – Contains data on the effectiveness of various interventions, with metrics on effect size, treatment and control means, standard deviations, and confidence intervals.\n",
    "\n",
    "Each file will be individually assessed and cleaned before merging to ensure data quality for the analysis."
   ]
  },
  {
   "cell_type": "markdown",
   "id": "d26f1af9",
   "metadata": {},
   "source": [
    "### 1. Code_Book.csv\n",
    "\n",
    "The `Code_Book.csv` file serves as a reference guide, providing detailed information about each field across the datasets. It is metadata and it includes the following columns:\n",
    "\n",
    "- **Field Name** – The name of each data field, allowing easy identification of variables across files.\n",
    "- **Description** – A detailed description of each field, explaining its purpose and the type of information it represents.\n",
    "- **Type** – Specifies the data type (e.g., numeric, string), which is essential for ensuring proper handling during data processing.\n",
    "- **Format** – Indicates the expected format or structure of the data (e.g., number format, date format), helping to validate data entries.\n",
    "- **Example** – Provides an example of each field’s typical data, giving a clearer understanding of expected values.\n",
    "\n",
    "This code book is essential for understanding the data structure and for consistent data handling during cleaning and analysis."
   ]
  },
  {
   "cell_type": "markdown",
   "id": "cd62cc33",
   "metadata": {},
   "source": [
    "### 2. Study_Groups_Category.csv\n",
    "\n",
    "The `Study_Groups_Category.csv` file provides demographic and contextual information about each study group involved in the research. Key columns include:\n",
    "- **report_id** – Unique identifier for each report, allowing for data linkage across files.\n",
    "- **study_id** – Unique identifier for each study within the reports.\n",
    "- **s_country** – Country where the study was conducted, helping to assess the geographical scope of the data.\n",
    "- **s_setting** – Describes the study setting (e.g., clinical, community), providing context on the environment where data was collected.\n",
    "- **s_start** – Start date of the study, indicating when data collection began.\n",
    "- **s_end** – End date of the study, showing the study’s overall duration.\n",
    "- **s_duration** – Numeric duration of the study, giving a quick understanding of the study period.\n",
    "- **s_n** – Number of participants in each group, essential for understanding the scale of each study.\n",
    "- **s_diag** – General code for participants' diagnoses, which classifies medical conditions.\n",
    "- **s_diag_spec** – Detailed description of diagnoses, offering a more precise medical context for the group.\n",
    "- **diag_category** – Diagnosis category, providing an additional generalized classification, useful for analyzing large groups.\n",
    "- **s_female** – Percentage of females in the group, supporting demographic analysis by gender.\n",
    "- **s_age_mt** – Mean age of the treatment group, useful for assessing age distribution within this category.\n",
    "- **s_age_mc** – Mean age of the control group, allowing for comparison of age characteristics.\n",
    "\n",
    "These columns offer comprehensive information for analyzing study group characteristics, demographics, and diagnoses, providing deeper insight into the context of the data collected.\n",
    "\n",
    "This file is crucial for assessing the diversity and characteristics of the study groups, enabling a deeper analysis of outcomes based on participant backgrounds."
   ]
  },
  {
   "cell_type": "code",
   "execution_count": 14,
   "id": "710f8541",
   "metadata": {},
   "outputs": [],
   "source": [
    "import pandas as pd\n",
    "import numpy as np\n",
    "import matplotlib.pyplot as plt\n",
    "import matplotlib.dates as mdates\n",
    "import seaborn as sns\n",
    "import os"
   ]
  },
  {
   "cell_type": "code",
   "execution_count": 15,
   "id": "eada948b",
   "metadata": {},
   "outputs": [],
   "source": [
    "study_df=pd.read_csv(r'C:\\Users\\User\\OneDrive\\Documents\\NEW_JOB\\Pet Projects\\Meditation_Stress_Project\\Cleaned data\\Study_Groups_Category.csv', encoding='utf-8-sig', delimiter=',', on_bad_lines='skip')"
   ]
  },
  {
   "cell_type": "code",
   "execution_count": null,
   "id": "a67bbd90",
   "metadata": {},
   "outputs": [],
   "source": []
  }
 ],
 "metadata": {
  "kernelspec": {
   "display_name": "base",
   "language": "python",
   "name": "python3"
  },
  "language_info": {
   "codemirror_mode": {
    "name": "ipython",
    "version": 3
   },
   "file_extension": ".py",
   "mimetype": "text/x-python",
   "name": "python",
   "nbconvert_exporter": "python",
   "pygments_lexer": "ipython3",
   "version": "3.11.5"
  }
 },
 "nbformat": 4,
 "nbformat_minor": 5
}
